{
 "cells": [
  {
   "cell_type": "code",
   "execution_count": null,
   "id": "5b16d48c",
   "metadata": {},
   "outputs": [],
   "source": [
    "## Q. Rock paper scissor ??\n",
    "\n",
    "# 1. rock\n",
    "# 2. paper\n",
    "# 3. scissor\n",
    "\n",
    "# comp_choice = random between 1  - 3\n",
    "# user_choice = TAKEN between 1  - 3\n",
    "import random\n",
    "dt={1:'rock', 2:'paper',3:'scissor'}\n",
    "\n",
    "user_choice=int(input(\"\"\"Enter the number from below list:\n",
    "1. rock\n",
    "2. paper\n",
    "3. scissor \\n\"\"\"))\n",
    "\n",
    "if user_choice not in [1,2,3]:\n",
    "  print(\"Invalid entry\")\n",
    "else:\n",
    "  comp_choice=random.randint(1,3)\n",
    "\n",
    "  if user_choice==comp_choice:\n",
    "    print(f\"Draw, you both got {dt[user_choice]}\")\n",
    "  elif (user_choice==1 and comp_choice==2) or (user_choice==2 and comp_choice==3) or (user_choice==3 and comp_choice==1):\n",
    "    print(f\"Computer WON, you got {dt[user_choice]} and computer got {dt[comp_choice]}\")\n",
    "  elif (user_choice==1 and comp_choice==3) or (user_choice==2 and comp_choice==1) or (user_choice==3 and comp_choice==2):\n",
    "    print(f\"You WON, you got {dt[user_choice]} and computer got {dt[comp_choice]}\")"
   ]
  },
  {
   "cell_type": "code",
   "execution_count": 6,
   "id": "0ff85b2c",
   "metadata": {},
   "outputs": [
    {
     "name": "stdout",
     "output_type": "stream",
     "text": [
      "7\n",
      "Enter 1 for infinite choice or enter the number of choices you need:\n",
      "5\n",
      "Enter your guess number b/w 1 to 20:\n",
      "2\n",
      "Go Up\n",
      "5\n",
      "Go Up\n",
      "4\n",
      "Go Up\n",
      "3\n",
      "Go Up\n",
      "4\n",
      "Sorry you have finished all of your choices and you missed to guess 7\n"
     ]
    }
   ],
   "source": [
    "# Q. Guess the Number\n",
    "\n",
    "# 1 - 20 ?? \n",
    "\n",
    "# comp_choice = random between 1 - 20 : \"15\"\n",
    "\n",
    "# Loop : UNDER SOME CHANCES (3) : INFINITE\n",
    "# user_choice = TAKEN between \n",
    "\n",
    "# user_choice = 10, comp --> Go Up\n",
    "# user_choice = 18, comp --> Come Down\n",
    "# user_choice = 13, comp --> Go Up\n",
    "\n",
    "import random\n",
    "\n",
    "rand_number=random.randint(1,20)\n",
    "\n",
    "user_choice=int(input(\"Enter 1 for infinite choice or enter the number of choices you need:\\n\"))\n",
    "\n",
    "if user_choice==1:\n",
    "    guess_number=int(input(\"Enter your guess number b/w 1 to 20:\\n\"))\n",
    "    while (1):\n",
    "        if guess_number==rand_number:\n",
    "            print(\"You got it!!!\")\n",
    "            break\n",
    "        elif guess_number>rand_number:\n",
    "            guess_number=int(input(\"Come Down\\n\"))\n",
    "        elif guess_number<rand_number:\n",
    "            guess_number=int(input(\"Go Up\\n\"))\n",
    "else:\n",
    "    flag=1\n",
    "    guess_number=int(input(\"Enter your guess number b/w 1 to 20:\\n\"))\n",
    "    for i in range(1,user_choice):\n",
    "        if guess_number==rand_number:\n",
    "            print(\"You got it!!!\")\n",
    "            flag=0\n",
    "            break\n",
    "        elif guess_number>rand_number:\n",
    "            guess_number=int(input(\"Come Down\\n\"))\n",
    "        elif guess_number<rand_number:\n",
    "            guess_number=int(input(\"Go Up\\n\"))\n",
    "    if (guess_number==rand_number) and flag==1:\n",
    "        print(\"You got it!!!\") \n",
    "    elif flag:\n",
    "        print(f\"Sorry you have finished all of your choices and you missed to guess {rand_number}\") \n",
    "            \n"
   ]
  },
  {
   "cell_type": "code",
   "execution_count": null,
   "id": "6516dfca",
   "metadata": {},
   "outputs": [],
   "source": []
  }
 ],
 "metadata": {
  "kernelspec": {
   "display_name": "Python 3 (ipykernel)",
   "language": "python",
   "name": "python3"
  },
  "language_info": {
   "codemirror_mode": {
    "name": "ipython",
    "version": 3
   },
   "file_extension": ".py",
   "mimetype": "text/x-python",
   "name": "python",
   "nbconvert_exporter": "python",
   "pygments_lexer": "ipython3",
   "version": "3.9.13"
  }
 },
 "nbformat": 4,
 "nbformat_minor": 5
}
